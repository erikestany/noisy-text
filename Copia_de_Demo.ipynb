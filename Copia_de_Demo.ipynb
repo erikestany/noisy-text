{
  "nbformat": 4,
  "nbformat_minor": 0,
  "metadata": {
    "colab": {
      "name": "Copia de Demo.ipynb",
      "provenance": [],
      "authorship_tag": "ABX9TyMCAJswYLfPbt7+je0i8br2",
      "include_colab_link": true
    },
    "kernelspec": {
      "name": "python3",
      "display_name": "Python 3"
    },
    "language_info": {
      "name": "python"
    }
  },
  "cells": [
    {
      "cell_type": "markdown",
      "metadata": {
        "id": "view-in-github",
        "colab_type": "text"
      },
      "source": [
        "<a href=\"https://colab.research.google.com/github/erikestany/noisy-text/blob/master/Copia_de_Demo.ipynb\" target=\"_parent\"><img src=\"https://colab.research.google.com/assets/colab-badge.svg\" alt=\"Open In Colab\"/></a>"
      ]
    },
    {
      "cell_type": "code",
      "metadata": {
        "colab": {
          "base_uri": "https://localhost:8080/"
        },
        "id": "PhqVCZkR9MRm",
        "outputId": "b5c40926-7e2d-46de-e670-69b38e5b2f99"
      },
      "source": [
        "print(\"Hello, Erik!\")"
      ],
      "execution_count": null,
      "outputs": [
        {
          "output_type": "stream",
          "name": "stdout",
          "text": [
            "Hello, Erik!\n"
          ]
        }
      ]
    }
  ]
}